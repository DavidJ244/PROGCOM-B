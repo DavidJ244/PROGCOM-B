{
  "nbformat": 4,
  "nbformat_minor": 0,
  "metadata": {
    "colab": {
      "name": "Untitled0.ipynb",
      "provenance": [],
      "authorship_tag": "ABX9TyNvnWJ+tGT4HR6jDB5WU/dK",
      "include_colab_link": true
    },
    "kernelspec": {
      "name": "python3",
      "display_name": "Python 3"
    },
    "language_info": {
      "name": "python"
    }
  },
  "cells": [
    {
      "cell_type": "markdown",
      "metadata": {
        "id": "view-in-github",
        "colab_type": "text"
      },
      "source": [
        "<a href=\"https://colab.research.google.com/github/DavidJ244/PROGCOM-B/blob/main/Untitled0.ipynb\" target=\"_parent\"><img src=\"https://colab.research.google.com/assets/colab-badge.svg\" alt=\"Open In Colab\"/></a>"
      ]
    },
    {
      "cell_type": "code",
      "execution_count": 38,
      "metadata": {
        "colab": {
          "base_uri": "https://localhost:8080/"
        },
        "id": "MvyRfffGXLCG",
        "outputId": "fc32cb57-0133-41d1-b91f-24c817c76bcc"
      },
      "outputs": [
        {
          "output_type": "stream",
          "name": "stdout",
          "text": [
            "Introduce un numero: 5\n",
            "2\n",
            "3\n",
            "5\n"
          ]
        }
      ],
      "source": [
        "#Indicar si un número N es un número primo (siendo N un número que se lee).\n",
        "#Ademas me imprime los numeros primos antes de n.\n",
        "n=int(input(\"Introduce un numero: \"))\n",
        "for i in range(2,n+1):\n",
        " contador=0\n",
        " for j in range(1,n+1):\n",
        "  if i%j==0:\n",
        "   contador+=1\n",
        " if contador==2:\n",
        "  print(i) \n"
      ]
    },
    {
      "cell_type": "code",
      "source": [
        "#Imprimir los 30 primeros números de Fibonacci. \n",
        "x=0\n",
        "y=1\n",
        "z=0\n",
        "while True:\n",
        "    n=30\n",
        "    if n>1:\n",
        "        break\n",
        "print(\"1\",end=\" \")\n",
        "for i in range(0,n):\n",
        "    z=x+y\n",
        "    print(f\"{z}\",end=\" \")\n",
        "    x=y\n",
        "    y=z\n",
        "print(\"\") "
      ],
      "metadata": {
        "colab": {
          "base_uri": "https://localhost:8080/"
        },
        "id": "jvOIMhd3ZROp",
        "outputId": "ecbc3d28-edb8-4af2-d1f2-be748daed4be"
      },
      "execution_count": 26,
      "outputs": [
        {
          "output_type": "stream",
          "name": "stdout",
          "text": [
            "1 1 2 3 5 8 13 21 34 55 89 144 233 377 610 987 1597 2584 4181 6765 10946 17711 28657 46368 75025 121393 196418 317811 514229 832040 1346269 \n"
          ]
        }
      ]
    },
    {
      "cell_type": "code",
      "source": [
        "#tabla de multiplicar\n",
        "n=int(input('ingrese la tabla que desee calcular'))\n",
        "for i in range (1,11):\n",
        "    print(n, 'x', i ,'=',n*i)\n"
      ],
      "metadata": {
        "id": "bWfk0e7ea6U1"
      },
      "execution_count": null,
      "outputs": []
    }
  ]
}