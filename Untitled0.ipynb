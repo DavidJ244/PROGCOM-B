{
  "nbformat": 4,
  "nbformat_minor": 0,
  "metadata": {
    "colab": {
      "name": "Untitled0.ipynb",
      "provenance": []
    },
    "kernelspec": {
      "name": "python3",
      "display_name": "Python 3"
    },
    "language_info": {
      "name": "python"
    }
  },
  "cells": [
    {
      "cell_type": "markdown",
      "source": [
        "#Ejercicio1\n"
      ],
      "metadata": {
        "id": "QGnj33yjqjna"
      }
    },
    {
      "cell_type": "code",
      "source": [
        ""
      ],
      "metadata": {
        "id": "i9c2D6H6xpkP"
      },
      "execution_count": null,
      "outputs": []
    },
    {
      "cell_type": "code",
      "source": [
        "#def calculo()\n",
        "n1 = int(input('ingresar numero '))\n",
        "n2 = int(input('ingresar otro numero '))\n",
        "if n2 == 0:\n",
        "  print('no se puede dividir en 0')\n",
        "elif n1 % n2 == 0:\n",
        "  print ('division exacta') \n",
        "else:\n",
        "  print ('division no exacta')  \n",
        "\n"
      ],
      "metadata": {
        "colab": {
          "base_uri": "https://localhost:8080/"
        },
        "id": "0K59OjMYqsdw",
        "outputId": "c90cbdaa-e222-438b-bdc1-619e433893d0"
      },
      "execution_count": 81,
      "outputs": [
        {
          "output_type": "stream",
          "name": "stdout",
          "text": [
            "Favor ingresar numero 10\n",
            "Favor ingresar numero 0\n",
            "no se puede dividir en 0\n"
          ]
        }
      ]
    },
    {
      "cell_type": "markdown",
      "source": [
        "#Ejercicio7"
      ],
      "metadata": {
        "id": "wlgsN8p56ppb"
      }
    },
    {
      "cell_type": "code",
      "source": [
        "year = int(input('ingresa tu año de nacimiento '))\n",
        "mes = int(input('ingresa tu mes de nacimiento '))\n",
        "dia = int(input('ingresa tu dia de nacimiento ')) \n",
        "yearact = 2022\n",
        "mesact = 8\n",
        "diaact = 12\n",
        "yeart = yearact - year\n",
        "print ('tu edad es de: ')\n",
        "print (yeart)\n",
        "\n"
      ],
      "metadata": {
        "id": "_zdOH-OKAkw8"
      },
      "execution_count": null,
      "outputs": []
    }
  ]
}