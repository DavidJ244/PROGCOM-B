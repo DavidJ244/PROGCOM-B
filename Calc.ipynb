{
  "nbformat": 4,
  "nbformat_minor": 0,
  "metadata": {
    "colab": {
      "provenance": [],
      "authorship_tag": "ABX9TyO3tT44ocWluX3lghpbVg/Z",
      "include_colab_link": true
    },
    "kernelspec": {
      "name": "python3",
      "display_name": "Python 3"
    },
    "language_info": {
      "name": "python"
    }
  },
  "cells": [
    {
      "cell_type": "markdown",
      "metadata": {
        "id": "view-in-github",
        "colab_type": "text"
      },
      "source": [
        "<a href=\"https://colab.research.google.com/github/DavidJ244/PROGCOM-B/blob/main/Calc.ipynb\" target=\"_parent\"><img src=\"https://colab.research.google.com/assets/colab-badge.svg\" alt=\"Open In Colab\"/></a>"
      ]
    },
    {
      "cell_type": "code",
      "execution_count": 1,
      "metadata": {
        "colab": {
          "base_uri": "https://localhost:8080/"
        },
        "id": "FFkpOSNSImka",
        "outputId": "92cd6e35-af85-438d-e5a6-98bfde35a633"
      },
      "outputs": [
        {
          "output_type": "stream",
          "name": "stdout",
          "text": [
            "Operaciones matematicas sencillas\n",
            "1) Suma\n",
            "2) Resta\n",
            "3) Multiplicación\n",
            "4) División\n",
            "5) Potencias\n",
            "6) Logaritmo Natural\n",
            "7) Sen(X)\n",
            "8) Cos(X)\n",
            "9) Tan(X)\n",
            "10) Radicando\n",
            "Ingresa la operación a ejecutar: 7\n",
            "Ingresa un número: 56\n",
            "0.8290375725550417\n"
          ]
        }
      ],
      "source": [
        "import math\n",
        "print(\"Operaciones matematicas\")\n",
        "print(\"1) Suma\", \"2) Resta\", \"3) Multiplicación\", \"4) División\", \"5) Potencias\", \"6) Logaritmo Natural\", \"7) Sen(X)\", \"8) Cos(X)\", \"9) Tan(X)\", \"10) Radicando\", sep=\"\\n\")\n",
        "B=int(input(\"¿Que operación quieres hacer?\"))\n",
        "\n",
        "if B==1:\n",
        " D=int(input(\"Ingresa un número: \"))\n",
        " S=int(input(\"Ingresa otro número: \"))\n",
        " K= D+S\n",
        " print(K)\n",
        "elif B==2:\n",
        " D=int(input(\"Ingresa un número: \"))\n",
        " S=int(input(\"Ingresa otro número: \"))\n",
        " K= D-S\n",
        " print(K)\n",
        "elif B==3:\n",
        " D=int(input(\"Ingresa un número: \"))\n",
        " S=int(input(\"Ingresa otro número: \"))\n",
        " K= D*S\n",
        " print(K)\n",
        "elif B==4:\n",
        " D=int(input(\"Ingresa un número: \"))\n",
        " S=int(input(\"Ingresa otro número: \"))\n",
        " K= D/S\n",
        " print(K)\n",
        "elif B==5:\n",
        " D=int(input(\"Ingresa un número (Número que se va a elevar): \"))\n",
        " S=int(input(\"Ingresa otro número (Potencia del primer número): \"))\n",
        " K= D**S\n",
        " print(K)\n",
        "elif B==6:\n",
        " D=int(input(\"Ingresa un número: \"))\n",
        " K=math.log(D)\n",
        " print(K)\n",
        "elif B==7:\n",
        " D=int(input(\"Ingresa un número: \"))\n",
        " D=D*math.pi/180\n",
        " K=(math.sin(D))\n",
        " print(K)\n",
        "elif B==8:\n",
        " D=int(input(\"Ingresa un número: \"))\n",
        " \n",
        " D=D*math.pi/180\n",
        " K=math.cos(D)\n",
        " print(K)\n",
        "elif B==9:\n",
        " D=int(input(\"Ingresa un número: \"))\n",
        " D=D*math.pi/180\n",
        " K=math.tan(D)\n",
        " print(K)  \n",
        "elif B==10:\n",
        " D=int(input(\"Ingresa un número: \"))\n",
        " raiz=math.sqrt(D)\n",
        " print(raiz)\n",
        "\n",
        "else:\n",
        " print(\"ERROR\")"
      ]
    }
  ]
}