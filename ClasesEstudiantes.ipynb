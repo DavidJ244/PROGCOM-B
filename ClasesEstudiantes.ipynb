{
  "nbformat": 4,
  "nbformat_minor": 0,
  "metadata": {
    "colab": {
      "provenance": [],
      "authorship_tag": "ABX9TyO0nhje4N9SOKFmzJBvpgPn",
      "include_colab_link": true
    },
    "kernelspec": {
      "name": "python3",
      "display_name": "Python 3"
    },
    "language_info": {
      "name": "python"
    }
  },
  "cells": [
    {
      "cell_type": "markdown",
      "metadata": {
        "id": "view-in-github",
        "colab_type": "text"
      },
      "source": [
        "<a href=\"https://colab.research.google.com/github/DavidJ244/PROGCOM-B/blob/main/ClasesEstudiantes.ipynb\" target=\"_parent\"><img src=\"https://colab.research.google.com/assets/colab-badge.svg\" alt=\"Open In Colab\"/></a>"
      ]
    },
    {
      "cell_type": "code",
      "execution_count": 11,
      "metadata": {
        "colab": {
          "base_uri": "https://localhost:8080/",
          "height": 252
        },
        "id": "5H3fGi7aR7P_",
        "outputId": "d05db06b-7334-4006-892e-9488b50971dc"
      },
      "outputs": [
        {
          "name": "stdout",
          "output_type": "stream",
          "text": [
            "Cada clase tiene 10 estudiantes \n",
            "Ingresa cuantos estudiantes hay en la clase 1: 3\n",
            "Ingrese las notas de la clase 1 20, 34, 45\n"
          ]
        },
        {
          "output_type": "error",
          "ename": "ValueError",
          "evalue": "ignored",
          "traceback": [
            "\u001b[0;31m---------------------------------------------------------------------------\u001b[0m",
            "\u001b[0;31mValueError\u001b[0m                                Traceback (most recent call last)",
            "\u001b[0;32m<ipython-input-11-aebdf9e95e87>\u001b[0m in \u001b[0;36m<module>\u001b[0;34m\u001b[0m\n\u001b[1;32m      5\u001b[0m \u001b[0;34m\u001b[0m\u001b[0m\n\u001b[1;32m      6\u001b[0m \u001b[0;32melse\u001b[0m\u001b[0;34m:\u001b[0m\u001b[0;34m\u001b[0m\u001b[0;34m\u001b[0m\u001b[0m\n\u001b[0;32m----> 7\u001b[0;31m   \u001b[0mClase1\u001b[0m \u001b[0;34m=\u001b[0m \u001b[0mfloat\u001b[0m\u001b[0;34m(\u001b[0m\u001b[0minput\u001b[0m\u001b[0;34m(\u001b[0m\u001b[0;34m\"Ingrese las notas de la clase 1 \"\u001b[0m\u001b[0;34m)\u001b[0m\u001b[0;34m)\u001b[0m\u001b[0;34m\u001b[0m\u001b[0;34m\u001b[0m\u001b[0m\n\u001b[0m",
            "\u001b[0;31mValueError\u001b[0m: could not convert string to float: '20, 34, 45'"
          ]
        }
      ],
      "source": [
        "print('Cada clase tiene 10 estudiantes ')\n",
        "Cantidad=int(input('Ingresa cuantos estudiantes hay en la clase 1: '))\n",
        "if Cantidad > 10:\n",
        "  print('No valido ')\n",
        "\n",
        "else:\n",
        "  Clase1 = float(input(\"Ingrese las notas de la clase 1 \"))\n",
        "\n",
        "Cantidad=int(input('Ingresa cuantos estudiantes hay en la clase 2: '))\n",
        "if Cantidad > 10:\n",
        "  print('No valido ')\n",
        "\n",
        "else:\n",
        "  Clase2 = float(input(\"Ingrese las notas de la clase 2: \"))\n",
        "\n",
        "Cantidad=int(input('Ingresa cuantos estudiantes hay en la clase 3: '))\n",
        "if Cantidad > 10:\n",
        "  print('No valido ')\n",
        "\n",
        "else:\n",
        "  Clase3 = float(input(\"Ingrese las notas de la clase 3 \"))\n",
        "\n",
        "prom = (Clase1+Clase2+Clase3)/3\n"
      ]
    }
  ]
}