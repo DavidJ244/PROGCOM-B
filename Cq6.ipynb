{
  "nbformat": 4,
  "nbformat_minor": 0,
  "metadata": {
    "colab": {
      "provenance": [],
      "authorship_tag": "ABX9TyMaQB94jP7KP0NYzQeRDUbp",
      "include_colab_link": true
    },
    "kernelspec": {
      "name": "python3",
      "display_name": "Python 3"
    },
    "language_info": {
      "name": "python"
    }
  },
  "cells": [
    {
      "cell_type": "markdown",
      "metadata": {
        "id": "view-in-github",
        "colab_type": "text"
      },
      "source": [
        "<a href=\"https://colab.research.google.com/github/DavidJ244/PROGCOM-B/blob/main/Cq6.ipynb\" target=\"_parent\"><img src=\"https://colab.research.google.com/assets/colab-badge.svg\" alt=\"Open In Colab\"/></a>"
      ]
    },
    {
      "cell_type": "markdown",
      "source": [
        "False:\n",
        "Es de tipo booleano, es frecuente verlo en los condicionales cuando los valores se interpretan como falsos.\n"
      ],
      "metadata": {
        "id": "wT4s4v8jZc4V"
      }
    },
    {
      "cell_type": "code",
      "execution_count": null,
      "metadata": {
        "colab": {
          "base_uri": "https://localhost:8080/"
        },
        "id": "2M2jJls1Zax1",
        "outputId": "22b15e8c-5cc2-4af7-eb0c-ee2fe11b841a"
      },
      "outputs": [
        {
          "output_type": "execute_result",
          "data": {
            "text/plain": [
              "False"
            ]
          },
          "metadata": {},
          "execution_count": 1
        }
      ],
      "source": [
        "a=2\n",
        "b=1\n",
        "a == b"
      ]
    },
    {
      "cell_type": "markdown",
      "source": [
        "None:\n",
        "Se utiliza cuando se quiere crear una variable pero sin asignarle todavia un valor."
      ],
      "metadata": {
        "id": "OPQ7pfDvaPLI"
      }
    },
    {
      "cell_type": "code",
      "source": [
        "a = None\n",
        "type (a)\n"
      ],
      "metadata": {
        "colab": {
          "base_uri": "https://localhost:8080/"
        },
        "id": "Qv40XEoea7lZ",
        "outputId": "4d6d38f6-c2e6-4293-85e7-a75ecf9bb9e7"
      },
      "execution_count": null,
      "outputs": [
        {
          "output_type": "execute_result",
          "data": {
            "text/plain": [
              "NoneType"
            ]
          },
          "metadata": {},
          "execution_count": 4
        }
      ]
    },
    {
      "cell_type": "markdown",
      "source": [
        "True: Es tipo booleano, al igual que false, suele verse en condicionales cuando los valores se interpretan como verdaderos."
      ],
      "metadata": {
        "id": "PwwPQfTIbHws"
      }
    },
    {
      "cell_type": "code",
      "source": [
        "a=2\n",
        "b=1\n",
        "a!=b"
      ],
      "metadata": {
        "colab": {
          "base_uri": "https://localhost:8080/"
        },
        "id": "o5qYuypQbn0g",
        "outputId": "6c0194e1-e349-4ef7-ce32-e0bc584f1361"
      },
      "execution_count": null,
      "outputs": [
        {
          "output_type": "execute_result",
          "data": {
            "text/plain": [
              "True"
            ]
          },
          "metadata": {},
          "execution_count": 5
        }
      ]
    },
    {
      "cell_type": "markdown",
      "source": [
        "And: Este operador evalúa si el valor del lado izquierdo y el lado derecho se cumple."
      ],
      "metadata": {
        "id": "pUrC4xbMbvmv"
      }
    },
    {
      "cell_type": "code",
      "source": [
        "True and False\n"
      ],
      "metadata": {
        "colab": {
          "base_uri": "https://localhost:8080/"
        },
        "id": "PjGujIqzchi2",
        "outputId": "12d40a91-5ef5-40f8-ed98-4d1556c63c2d"
      },
      "execution_count": null,
      "outputs": [
        {
          "output_type": "execute_result",
          "data": {
            "text/plain": [
              "False"
            ]
          },
          "metadata": {},
          "execution_count": 7
        }
      ]
    },
    {
      "cell_type": "markdown",
      "source": [
        "As: Se usa para modificar el nombre original 'calendar' a otro, en este caso 'c' asi nos ahorramos tiempo al escribir la palbra completa."
      ],
      "metadata": {
        "id": "cQzgjPgPesqk"
      }
    },
    {
      "cell_type": "code",
      "source": [
        "import calendar as c\n",
        "print(c.month_name[2])"
      ],
      "metadata": {
        "colab": {
          "base_uri": "https://localhost:8080/"
        },
        "id": "EewJBkKZeuYK",
        "outputId": "9c80959d-fa45-458c-b168-e03195316e34"
      },
      "execution_count": null,
      "outputs": [
        {
          "output_type": "stream",
          "name": "stdout",
          "text": [
            "February\n"
          ]
        }
      ]
    },
    {
      "cell_type": "markdown",
      "source": [
        "Assert: Permite probar si una condición en su código devuelve True, si no, el programa generará un AssertionError. Puede escribir un mensaje para que se escriba si el código devuelve False."
      ],
      "metadata": {
        "id": "Twz1kkfgtjXg"
      }
    },
    {
      "cell_type": "code",
      "source": [
        "assert(1==2)\n"
      ],
      "metadata": {
        "id": "SlO-L-Onz0Uf",
        "outputId": "045f5ec0-6859-4556-db09-e8e50816ffe7",
        "colab": {
          "base_uri": "https://localhost:8080/",
          "height": 165
        }
      },
      "execution_count": null,
      "outputs": [
        {
          "output_type": "error",
          "ename": "AssertionError",
          "evalue": "ignored",
          "traceback": [
            "\u001b[0;31m---------------------------------------------------------------------------\u001b[0m",
            "\u001b[0;31mAssertionError\u001b[0m                            Traceback (most recent call last)",
            "\u001b[0;32m<ipython-input-3-91d16dafa3fa>\u001b[0m in \u001b[0;36m<module>\u001b[0;34m\u001b[0m\n\u001b[0;32m----> 1\u001b[0;31m \u001b[0;32massert\u001b[0m\u001b[0;34m(\u001b[0m\u001b[0;36m1\u001b[0m\u001b[0;34m==\u001b[0m\u001b[0;36m2\u001b[0m\u001b[0;34m)\u001b[0m\u001b[0;34m\u001b[0m\u001b[0;34m\u001b[0m\u001b[0m\n\u001b[0m",
            "\u001b[0;31mAssertionError\u001b[0m: "
          ]
        }
      ]
    },
    {
      "cell_type": "markdown",
      "source": [
        "Break: se utiliza para dividir un bucle for o un bucle while."
      ],
      "metadata": {
        "id": "kUTlByCHNuib"
      }
    },
    {
      "cell_type": "code",
      "source": [
        "for i in range(9):\n",
        "  if i > 7:\n",
        "    break\n",
        "  print(i)"
      ],
      "metadata": {
        "colab": {
          "base_uri": "https://localhost:8080/"
        },
        "id": "LloNSiNAOHCz",
        "outputId": "d2192e8f-8a9d-42ba-a2d4-18ccdc0b3305"
      },
      "execution_count": 1,
      "outputs": [
        {
          "output_type": "stream",
          "name": "stdout",
          "text": [
            "0\n",
            "1\n",
            "2\n",
            "3\n",
            "4\n",
            "5\n",
            "6\n",
            "7\n"
          ]
        }
      ]
    },
    {
      "cell_type": "markdown",
      "source": [
        "Class: Se utiliza para crear una clase.\n",
        "(Una clase es algo como un constructor de objetos)"
      ],
      "metadata": {
        "id": "zQBEOOmEONMe"
      }
    },
    {
      "cell_type": "code",
      "source": [
        "class Person:\n",
        "  name = \"Juam\"\n",
        "  lastname = \"Vargas\"\n",
        "  age = 17\n",
        "print(Person.age)\n",
        "print(Person.lastname)"
      ],
      "metadata": {
        "colab": {
          "base_uri": "https://localhost:8080/"
        },
        "id": "yZD9rxhROc1D",
        "outputId": "7a5f0382-ea7b-4675-dd0a-2b8bbf0a1c05"
      },
      "execution_count": 2,
      "outputs": [
        {
          "output_type": "stream",
          "name": "stdout",
          "text": [
            "17\n",
            "Vargas\n"
          ]
        }
      ]
    },
    {
      "cell_type": "markdown",
      "source": [
        "Def: Es utilizada para crear (o definir) una función."
      ],
      "metadata": {
        "id": "Wx0b5KuhOlfw"
      }
    },
    {
      "cell_type": "code",
      "source": [
        "def my_function():\n",
        " print(\"HOY ME CREARÓN :)\")\n",
        "my_function()"
      ],
      "metadata": {
        "colab": {
          "base_uri": "https://localhost:8080/"
        },
        "id": "__KduhysPBNn",
        "outputId": "fb9adb68-c13b-4042-d0d5-ed947e2d23f9"
      },
      "execution_count": 3,
      "outputs": [
        {
          "output_type": "stream",
          "name": "stdout",
          "text": [
            "HOY ME CREARÓN :)\n"
          ]
        }
      ]
    },
    {
      "cell_type": "markdown",
      "source": [
        "Del: se utiliza para eliminar objetos. (Listas, variables, etc)"
      ],
      "metadata": {
        "id": "XGjtEYCKPNJZ"
      }
    },
    {
      "cell_type": "code",
      "source": [
        "x = \"Amarillo\"\n",
        "y = \"Azul\"\n",
        "del x\n",
        "print(x, y)"
      ],
      "metadata": {
        "colab": {
          "base_uri": "https://localhost:8080/",
          "height": 200
        },
        "id": "v4fx7AVkPd6a",
        "outputId": "9d35ef33-d44c-42f1-9d0c-58235515fd15"
      },
      "execution_count": 4,
      "outputs": [
        {
          "output_type": "error",
          "ename": "NameError",
          "evalue": "ignored",
          "traceback": [
            "\u001b[0;31m---------------------------------------------------------------------------\u001b[0m",
            "\u001b[0;31mNameError\u001b[0m                                 Traceback (most recent call last)",
            "\u001b[0;32m<ipython-input-4-3092ae464b8b>\u001b[0m in \u001b[0;36m<module>\u001b[0;34m\u001b[0m\n\u001b[1;32m      2\u001b[0m \u001b[0my\u001b[0m \u001b[0;34m=\u001b[0m \u001b[0;34m\"Azul\"\u001b[0m\u001b[0;34m\u001b[0m\u001b[0;34m\u001b[0m\u001b[0m\n\u001b[1;32m      3\u001b[0m \u001b[0;32mdel\u001b[0m \u001b[0mx\u001b[0m\u001b[0;34m\u001b[0m\u001b[0;34m\u001b[0m\u001b[0m\n\u001b[0;32m----> 4\u001b[0;31m \u001b[0mprint\u001b[0m\u001b[0;34m(\u001b[0m\u001b[0mx\u001b[0m\u001b[0;34m,\u001b[0m \u001b[0my\u001b[0m\u001b[0;34m)\u001b[0m\u001b[0;34m\u001b[0m\u001b[0;34m\u001b[0m\u001b[0m\n\u001b[0m",
            "\u001b[0;31mNameError\u001b[0m: name 'x' is not defined"
          ]
        }
      ]
    },
    {
      "cell_type": "markdown",
      "source": [
        "Elif: se usa en los condicionales, y es la abreviatura de else if."
      ],
      "metadata": {
        "id": "rGOreMUjPosa"
      }
    },
    {
      "cell_type": "code",
      "source": [
        "for i in range(-3, 3):\n",
        "  if i > 0:\n",
        "    print(\"Chao\")\n",
        "  elif i == 0:\n",
        "    print(\"???\")\n",
        "  else:\n",
        "    print(\"Hola\")"
      ],
      "metadata": {
        "colab": {
          "base_uri": "https://localhost:8080/"
        },
        "id": "pbZ7otRwP1_r",
        "outputId": "b4e5107f-7c41-4fcf-ac11-cb8a7203cf64"
      },
      "execution_count": 7,
      "outputs": [
        {
          "output_type": "stream",
          "name": "stdout",
          "text": [
            "Hola\n",
            "Hola\n",
            "Hola\n",
            "???\n",
            "Chao\n",
            "Chao\n"
          ]
        }
      ]
    },
    {
      "cell_type": "markdown",
      "source": [
        "Else: se usa en los condicionales y decide qué hacer si la condición es falsa. "
      ],
      "metadata": {
        "id": "q_mGSfgYQD_E"
      }
    },
    {
      "cell_type": "code",
      "source": [
        "x = 19\n",
        "if x > 10 :\n",
        "   print ( \" x es mayor que 10 \" )\n",
        "   if x > 20 :\n",
        "      print ( \" x también es mayor que 20 \" )\n",
        "   else:\n",
        "       print ( \" pero no mayor a 20 \" )\n",
        "   "
      ],
      "metadata": {
        "colab": {
          "base_uri": "https://localhost:8080/"
        },
        "id": "NdTOJ7xLQUKM",
        "outputId": "a0f82b52-9561-4d23-b926-5cb32270178c"
      },
      "execution_count": 10,
      "outputs": [
        {
          "output_type": "stream",
          "name": "stdout",
          "text": [
            " x es mayor que 10 \n",
            " pero no mayor a 20 \n"
          ]
        }
      ]
    },
    {
      "cell_type": "markdown",
      "source": [
        "Except: se usa en los bloques try...except. Define un bloque de código para ejecutar si el bloque de prueba genera un error. Puede definir diferentes bloques para diferentes tipos de error y bloques para ejecutar si todo salio bien."
      ],
      "metadata": {
        "id": "9xcyjSjoRGij"
      }
    },
    {
      "cell_type": "code",
      "source": [
        "try:\n",
        "  x > 2\n",
        "except:\n",
        "  print(\"Algo esta mal\")\n",
        "print(\"Incluso si hay un error el programa se sigue ejecutando\")"
      ],
      "metadata": {
        "colab": {
          "base_uri": "https://localhost:8080/"
        },
        "id": "0gV-S08URTHO",
        "outputId": "66b47803-f12c-4ab6-e63e-058784056985"
      },
      "execution_count": 14,
      "outputs": [
        {
          "output_type": "stream",
          "name": "stdout",
          "text": [
            "Incluso si hay un error el programa se sigue ejecutando\n"
          ]
        }
      ]
    },
    {
      "cell_type": "markdown",
      "source": [
        "Finally: se usa en try...except blocks. Define un bloque de código para ejecutar cuando el bloque try...except...else es definitivo. El bloque \"finally\" se ejecutará sin importar si el bloque \"try\" genera un error o no. Esto puede ser útil para cerrar objetos y limpiar recursos."
      ],
      "metadata": {
        "id": "K4jz2LdORi1t"
      }
    },
    {
      "cell_type": "code",
      "source": [
        "try:\n",
        "  x > 3\n",
        "except:\n",
        "  print(\"Algo esta mal\")\n",
        "else:\n",
        "  print(\"Nada salió mal\")\n",
        "finally:\n",
        "  print(\"El código al fin terminó\")"
      ],
      "metadata": {
        "colab": {
          "base_uri": "https://localhost:8080/"
        },
        "id": "CY9sbTXjRu20",
        "outputId": "3badd8e3-d6ce-451f-a286-40bf4dc1030b"
      },
      "execution_count": 15,
      "outputs": [
        {
          "output_type": "stream",
          "name": "stdout",
          "text": [
            "Nada salió mal\n",
            "El código al fin terminó\n"
          ]
        }
      ]
    },
    {
      "cell_type": "markdown",
      "source": [
        "For: se utiliza para crear un bucle for. Se puede usar para iterar a través de una secuencia, como una lista, una tupla, etc."
      ],
      "metadata": {
        "id": "mDt1pGByRzgJ"
      }
    },
    {
      "cell_type": "code",
      "source": [
        "for x in range(1, 5):\n",
        "  print(x)"
      ],
      "metadata": {
        "colab": {
          "base_uri": "https://localhost:8080/"
        },
        "id": "9pCpVQ7iR4el",
        "outputId": "0f63cb52-bc5e-405f-f156-5d6cbda1d497"
      },
      "execution_count": 16,
      "outputs": [
        {
          "output_type": "stream",
          "name": "stdout",
          "text": [
            "1\n",
            "2\n",
            "3\n",
            "4\n"
          ]
        }
      ]
    },
    {
      "cell_type": "markdown",
      "source": [
        "from: se usa para importar solo una sección específica de un módulo.\n",
        "Ejemplo: Importe solo la sección de hora del módulo de fecha y hora e imprima la hora como si fueran las 12:00:"
      ],
      "metadata": {
        "id": "pZc_gLoQR-CF"
      }
    },
    {
      "cell_type": "code",
      "source": [
        "\n",
        "from datetime import time\n",
        "x = time(hour=12)\n",
        "print(x)"
      ],
      "metadata": {
        "colab": {
          "base_uri": "https://localhost:8080/"
        },
        "id": "ZezIBazmSFhR",
        "outputId": "39501d14-c3db-4f66-d4d5-f0eacf612277"
      },
      "execution_count": 17,
      "outputs": [
        {
          "output_type": "stream",
          "name": "stdout",
          "text": [
            "12:00:00\n"
          ]
        }
      ]
    },
    {
      "cell_type": "markdown",
      "source": [
        "Global: se utiliza para crear variables globales desde un ámbito no global, dentro de una función."
      ],
      "metadata": {
        "id": "2-KYAzs7SMKo"
      }
    },
    {
      "cell_type": "code",
      "source": [
        "#crear la función:\n",
        "def myfunction():\n",
        "  global x\n",
        "  x = \"Hola mundo\"\n",
        "#ejecuta la función:\n",
        "myfunction()\n",
        "#x ahora debería ser global y accesible en el ámbito global.\n",
        "print(x)"
      ],
      "metadata": {
        "colab": {
          "base_uri": "https://localhost:8080/"
        },
        "id": "u61VVxX9SSup",
        "outputId": "a6f78cde-d765-4330-8c9a-7085d4a1ebe8"
      },
      "execution_count": 18,
      "outputs": [
        {
          "output_type": "stream",
          "name": "stdout",
          "text": [
            "Hola mundo\n"
          ]
        }
      ]
    },
    {
      "cell_type": "markdown",
      "source": [
        "if: se usa para crear condicionales y le permite ejecutar un bloque de código solo si una condición es verdadera."
      ],
      "metadata": {
        "id": "f1F8bc4aSceH"
      }
    },
    {
      "cell_type": "code",
      "source": [
        "n = 3\n",
        "if n < 0 :\n",
        "    print ( \" Número negativo \" )\n",
        "elif n > 0 :\n",
        "    print ( \" Número positivo \" )\n",
        "else:\n",
        "    print ( \" Cero \" )\n"
      ],
      "metadata": {
        "colab": {
          "base_uri": "https://localhost:8080/"
        },
        "id": "chtwfpl5S3-w",
        "outputId": "190af7c3-ea9e-4570-a435-ca9e5b963c7c"
      },
      "execution_count": 20,
      "outputs": [
        {
          "output_type": "stream",
          "name": "stdout",
          "text": [
            " Número positivo \n"
          ]
        }
      ]
    },
    {
      "cell_type": "markdown",
      "source": [
        "Import: se utiliza para importar módulos."
      ],
      "metadata": {
        "id": "wuxwi2wLTA1f"
      }
    },
    {
      "cell_type": "code",
      "source": [
        "import math\n",
        "x = int ( input ( \" Ingresa un numero \\ n \" ) )\n",
        "raiz = math.sqrt ( x )\n",
        "print ( raiz )"
      ],
      "metadata": {
        "colab": {
          "base_uri": "https://localhost:8080/"
        },
        "id": "EptJ2HKATcKO",
        "outputId": "a4bb2d6c-1e99-4df6-d744-be292eb2043c"
      },
      "execution_count": 21,
      "outputs": [
        {
          "output_type": "stream",
          "name": "stdout",
          "text": [
            " Ingresa un numero \\ n 23\n",
            "4.795831523312719\n"
          ]
        }
      ]
    },
    {
      "cell_type": "markdown",
      "source": [
        "In: Se usa para devolver True si una secuencia con el valor especificado está presente en el objeto."
      ],
      "metadata": {
        "id": "4TWDeJn6TnX1"
      }
    },
    {
      "cell_type": "code",
      "source": [
        "x = [\"apple\", \"orange\"]\n",
        "print(\"orange\" in x)\n",
        "# Devuelve True porque una secuencia con el valor \"orange\" está en la lista"
      ],
      "metadata": {
        "colab": {
          "base_uri": "https://localhost:8080/"
        },
        "id": "RNA1DREhT2ng",
        "outputId": "6aaf10be-fd07-416b-c0ec-00404a1461cd"
      },
      "execution_count": 22,
      "outputs": [
        {
          "output_type": "stream",
          "name": "stdout",
          "text": [
            "True\n"
          ]
        }
      ]
    },
    {
      "cell_type": "markdown",
      "source": [
        "Is: Se usa para devolver True si ambas variables son el mismo objeto."
      ],
      "metadata": {
        "id": "DE1_T9jrT83A"
      }
    },
    {
      "cell_type": "code",
      "source": [
        "x = [\"apple\", \"orange\"]\n",
        "y = [\"apple\", \"orange\"]\n",
        "z = x\n",
        "print(x is z)\n",
        "# Devuelve True porque z es el mismo objeto que x\n",
        "print(x is y)\n",
        "# Devuelve False porque x no es el mismo objeto que y, incluso si tienen el mismo contenido\n",
        "print(x == y)\n",
        "# Para demostrar la diferencia entre \"Is\" y \"==\": esta comparación devuelve True porque x es igual a y"
      ],
      "metadata": {
        "colab": {
          "base_uri": "https://localhost:8080/"
        },
        "id": "_3K6IlR7UJSs",
        "outputId": "f84c4c47-c7d2-4d6b-b45b-1c4ed7d7bc3c"
      },
      "execution_count": 23,
      "outputs": [
        {
          "output_type": "stream",
          "name": "stdout",
          "text": [
            "True\n",
            "False\n",
            "True\n"
          ]
        }
      ]
    },
    {
      "cell_type": "markdown",
      "source": [
        "Lambda: se usa para crear pequeñas funciones anónimas. \n",
        "Una función lambda puede tomar cualquier cantidad de argumentos, pero solo puede tener una expresión, la expresión se evalúa y se devuelve el resultado."
      ],
      "metadata": {
        "id": "y5IlYUqOUP_3"
      }
    },
    {
      "cell_type": "code",
      "source": [
        "x = lambda a, b, c : a + b + c\n",
        "print(x(6, 61, 66))"
      ],
      "metadata": {
        "colab": {
          "base_uri": "https://localhost:8080/"
        },
        "id": "X1mR-DD6UbrN",
        "outputId": "3e1837ec-b69e-429d-e0c6-825ec5553e95"
      },
      "execution_count": 29,
      "outputs": [
        {
          "output_type": "stream",
          "name": "stdout",
          "text": [
            "133\n"
          ]
        }
      ]
    },
    {
      "cell_type": "markdown",
      "source": [
        "Nonlocal: se usa para trabajar con variables dentro de funciones anidadas, donde la variable no debe pertenecer a la función interna."
      ],
      "metadata": {
        "id": "vNV_obk1U4Za"
      }
    },
    {
      "cell_type": "code",
      "source": [
        "\n",
        "def myfunc1():\n",
        "  x = \"JD\"\n",
        "  def myfunc2():\n",
        "    nonlocal x\n",
        "    x = \"Hola\"\n",
        "  myfunc2() \n",
        "  return x\n",
        "print(myfunc1())\n",
        "#Con Nonlocal\n",
        "\n",
        "def myfunc1():\n",
        "  x = \"JD\"\n",
        "  def myfunc2():\n",
        "    x = \"Hola\"\n",
        "  myfunc2() \n",
        "  return x\n",
        "print(myfunc1())\n",
        "#Sin nonlocal"
      ],
      "metadata": {
        "colab": {
          "base_uri": "https://localhost:8080/"
        },
        "id": "0gnM80DqU_Sr",
        "outputId": "1d900898-e5ae-401b-af56-5bcc6e565eac"
      },
      "execution_count": 31,
      "outputs": [
        {
          "output_type": "stream",
          "name": "stdout",
          "text": [
            "Hola\n",
            "JD\n"
          ]
        }
      ]
    },
    {
      "cell_type": "markdown",
      "source": [
        "Not: el operador not niega una expresión booleana, de forma que not(x > y) es verdadero si (x > y) es falso, o sea, si x es menor o igual que y."
      ],
      "metadata": {
        "id": "6FPDtU4SVQGy"
      }
    },
    {
      "cell_type": "code",
      "source": [
        "x = 8\n",
        "print(not(x > 6 and x < 10))\n"
      ],
      "metadata": {
        "colab": {
          "base_uri": "https://localhost:8080/"
        },
        "id": "mko1q7V5VmHY",
        "outputId": "66a7e186-6340-4167-9ad9-de582892725b"
      },
      "execution_count": 32,
      "outputs": [
        {
          "output_type": "stream",
          "name": "stdout",
          "text": [
            "False\n"
          ]
        }
      ]
    },
    {
      "cell_type": "markdown",
      "source": [
        "Not: el operador OR de Python toma al menos dos expresiones booleanas y devuelve True si alguna de las expresiones es True. Si todas las expresiones son falsas, devuelve falso."
      ],
      "metadata": {
        "id": "hUrOROgAV_aL"
      }
    },
    {
      "cell_type": "code",
      "source": [
        "bool1 = 2>3\n",
        "bool2 = 2<3\n",
        "\n",
        "print('bool1:', bool1)\n",
        "print('bool2:', bool2)\n",
        "\n",
        "OR = bool1 or bool2\n",
        "print(\"Operador OR:\", OR)\n"
      ],
      "metadata": {
        "colab": {
          "base_uri": "https://localhost:8080/"
        },
        "id": "0eTh9DyAWEev",
        "outputId": "f2ab7a0f-5758-4c9d-f981-c4cad98f810d"
      },
      "execution_count": 34,
      "outputs": [
        {
          "output_type": "stream",
          "name": "stdout",
          "text": [
            "bool1: False\n",
            "bool2: True\n",
            "Operador OR: True\n"
          ]
        }
      ]
    },
    {
      "cell_type": "markdown",
      "source": [
        "Pass: se usa como marcador de posición para el código futuro. Cuando se ejecuta la declaración de pass, no sucede nada, pero evita obtener un error cuando no se permite el código vacío. El código vacío no está permitido en bucles, definiciones de funciones, definiciones de clases o declaraciones if."
      ],
      "metadata": {
        "id": "gIb02NqFWPix"
      }
    },
    {
      "cell_type": "code",
      "source": [
        "number = 0\n",
        "for number in range ( 10 ) :\n",
        "    if number == 5 :\n",
        "       pass \n",
        "    print ( ' Number is ' + str ( number ) )\n",
        "print ( ' Out of loop ' )"
      ],
      "metadata": {
        "colab": {
          "base_uri": "https://localhost:8080/"
        },
        "id": "wRGsRianWfzb",
        "outputId": "ef86bf50-713e-41f2-c8d6-48686680b2a7"
      },
      "execution_count": 35,
      "outputs": [
        {
          "output_type": "stream",
          "name": "stdout",
          "text": [
            " Number is 0\n",
            " Number is 1\n",
            " Number is 2\n",
            " Number is 3\n",
            " Number is 4\n",
            " Number is 5\n",
            " Number is 6\n",
            " Number is 7\n",
            " Number is 8\n",
            " Number is 9\n",
            " Out of loop \n"
          ]
        }
      ]
    },
    {
      "cell_type": "markdown",
      "source": [
        "Raise: se usa para generar una excepción. Puede definir qué tipo de error generar y el texto para imprimir al usuario."
      ],
      "metadata": {
        "id": "LTFj22vgWmSp"
      }
    },
    {
      "cell_type": "code",
      "source": [
        "x = -1\n",
        "if x < 0:\n",
        "  raise Exception(\"Numeros mayores a 0 porfa\")"
      ],
      "metadata": {
        "colab": {
          "base_uri": "https://localhost:8080/",
          "height": 200
        },
        "id": "vnTaaxwmW6LB",
        "outputId": "cb0d604d-2f01-4a7a-82f7-8d894676e1ac"
      },
      "execution_count": 36,
      "outputs": [
        {
          "output_type": "error",
          "ename": "Exception",
          "evalue": "ignored",
          "traceback": [
            "\u001b[0;31m---------------------------------------------------------------------------\u001b[0m",
            "\u001b[0;31mException\u001b[0m                                 Traceback (most recent call last)",
            "\u001b[0;32m<ipython-input-36-893ff22a8e6d>\u001b[0m in \u001b[0;36m<module>\u001b[0;34m\u001b[0m\n\u001b[1;32m      1\u001b[0m \u001b[0mx\u001b[0m \u001b[0;34m=\u001b[0m \u001b[0;34m-\u001b[0m\u001b[0;36m1\u001b[0m\u001b[0;34m\u001b[0m\u001b[0;34m\u001b[0m\u001b[0m\n\u001b[1;32m      2\u001b[0m \u001b[0;32mif\u001b[0m \u001b[0mx\u001b[0m \u001b[0;34m<\u001b[0m \u001b[0;36m0\u001b[0m\u001b[0;34m:\u001b[0m\u001b[0;34m\u001b[0m\u001b[0;34m\u001b[0m\u001b[0m\n\u001b[0;32m----> 3\u001b[0;31m   \u001b[0;32mraise\u001b[0m \u001b[0mException\u001b[0m\u001b[0;34m(\u001b[0m\u001b[0;34m\"Numeros mayores a 0 porfa\"\u001b[0m\u001b[0;34m)\u001b[0m\u001b[0;34m\u001b[0m\u001b[0;34m\u001b[0m\u001b[0m\n\u001b[0m",
            "\u001b[0;31mException\u001b[0m: Numeros mayores a 0 porfa"
          ]
        }
      ]
    },
    {
      "cell_type": "markdown",
      "source": [
        "Return es para salir de una función y devolver un valor."
      ],
      "metadata": {
        "id": "NBGo3drXXEFe"
      }
    },
    {
      "cell_type": "code",
      "source": [
        "def myfunction():\n",
        "  return 2+3\n",
        "  print(\"Hola Mundo\")\n",
        "print(myfunction())"
      ],
      "metadata": {
        "colab": {
          "base_uri": "https://localhost:8080/"
        },
        "id": "gZE_QbveXPLP",
        "outputId": "072e9481-70e1-4987-e669-97376c8763ee"
      },
      "execution_count": 38,
      "outputs": [
        {
          "output_type": "stream",
          "name": "stdout",
          "text": [
            "5\n"
          ]
        }
      ]
    },
    {
      "cell_type": "markdown",
      "source": [
        "Try: se usa en try...except blocks. Define un bloque de prueba de código si contiene algún error.\n",
        "Puede definir diferentes bloques para diferentes tipos de error y bloques para ejecutar si nada salió mal."
      ],
      "metadata": {
        "id": "ZEB7hkABXcWn"
      }
    },
    {
      "cell_type": "code",
      "source": [
        "try: \n",
        "  x > 5 \n",
        "except: \n",
        "  raise Exception(\"Algo esta mal\") \n",
        "print(\"El programa se detiene cuando encuentra un error\")"
      ],
      "metadata": {
        "colab": {
          "base_uri": "https://localhost:8080/"
        },
        "id": "avuCmuVWXktd",
        "outputId": "55d3a7fe-45cf-4a71-899f-52c73fc78862"
      },
      "execution_count": 40,
      "outputs": [
        {
          "output_type": "stream",
          "name": "stdout",
          "text": [
            "El programa se detiene cuando encuentra un error\n"
          ]
        }
      ]
    },
    {
      "cell_type": "markdown",
      "source": [
        "While: se utiliza para crear un bucle while.\n",
        "Un ciclo while continuará hasta que la declaración sea falsa."
      ],
      "metadata": {
        "id": "yBdHa5jpXseG"
      }
    },
    {
      "cell_type": "code",
      "source": [
        "x = 0\n",
        "while x < 9:\n",
        "  print(x)\n",
        "  x = x + 1"
      ],
      "metadata": {
        "colab": {
          "base_uri": "https://localhost:8080/"
        },
        "id": "J21SDit9X9Gf",
        "outputId": "02ffe99e-d30c-419e-fe17-801ba516ad08"
      },
      "execution_count": 41,
      "outputs": [
        {
          "output_type": "stream",
          "name": "stdout",
          "text": [
            "0\n",
            "1\n",
            "2\n",
            "3\n",
            "4\n",
            "5\n",
            "6\n",
            "7\n",
            "8\n"
          ]
        }
      ]
    },
    {
      "cell_type": "markdown",
      "source": [
        "With: se usa para ajustar la ejecución de un bloque con métodos definidos por un administrador de contexto. Esto permite que los patrones de uso comunes try…except…finally se encapsulen para una reutilización conveniente.\n",
        "\n"
      ],
      "metadata": {
        "id": "WoTWfRsMYBQT"
      }
    },
    {
      "cell_type": "code",
      "source": [
        "file = open('mi_data.zip')\n",
        "df = file.read()\n",
        "print(df)\n",
        "file.close()\n"
      ],
      "metadata": {
        "colab": {
          "base_uri": "https://localhost:8080/",
          "height": 217
        },
        "id": "W4PNKirSYV_h",
        "outputId": "5444cccc-7e43-4fba-ec40-5b27f67bab2b"
      },
      "execution_count": 42,
      "outputs": [
        {
          "output_type": "error",
          "ename": "FileNotFoundError",
          "evalue": "ignored",
          "traceback": [
            "\u001b[0;31m---------------------------------------------------------------------------\u001b[0m",
            "\u001b[0;31mFileNotFoundError\u001b[0m                         Traceback (most recent call last)",
            "\u001b[0;32m<ipython-input-42-d7e1350e31ff>\u001b[0m in \u001b[0;36m<module>\u001b[0;34m\u001b[0m\n\u001b[0;32m----> 1\u001b[0;31m \u001b[0mfile\u001b[0m \u001b[0;34m=\u001b[0m \u001b[0mopen\u001b[0m\u001b[0;34m(\u001b[0m\u001b[0;34m'mi_data.zip'\u001b[0m\u001b[0;34m)\u001b[0m\u001b[0;34m\u001b[0m\u001b[0;34m\u001b[0m\u001b[0m\n\u001b[0m\u001b[1;32m      2\u001b[0m \u001b[0mdf\u001b[0m \u001b[0;34m=\u001b[0m \u001b[0mfile\u001b[0m\u001b[0;34m.\u001b[0m\u001b[0mread\u001b[0m\u001b[0;34m(\u001b[0m\u001b[0;34m)\u001b[0m\u001b[0;34m\u001b[0m\u001b[0;34m\u001b[0m\u001b[0m\n\u001b[1;32m      3\u001b[0m \u001b[0mprint\u001b[0m\u001b[0;34m(\u001b[0m\u001b[0mdf\u001b[0m\u001b[0;34m)\u001b[0m\u001b[0;34m\u001b[0m\u001b[0;34m\u001b[0m\u001b[0m\n\u001b[1;32m      4\u001b[0m \u001b[0mfile\u001b[0m\u001b[0;34m.\u001b[0m\u001b[0mclose\u001b[0m\u001b[0;34m(\u001b[0m\u001b[0;34m)\u001b[0m\u001b[0;34m\u001b[0m\u001b[0;34m\u001b[0m\u001b[0m\n",
            "\u001b[0;31mFileNotFoundError\u001b[0m: [Errno 2] No such file or directory: 'mi_data.zip'"
          ]
        }
      ]
    },
    {
      "cell_type": "markdown",
      "source": [
        "Yield: Cuando hay una función que incluye un yield (o varios), entiende que al llamar esta función no obtendremos un valor devuelto con un return, sino que obtendremos un generador (generator)."
      ],
      "metadata": {
        "id": "_hiI_a88Yg3V"
      }
    },
    {
      "cell_type": "code",
      "source": [
        "\n",
        "def yield_function(): \n",
        "    yield 29\n",
        "    yield 39\n",
        "    yield 49  \n",
        "for y in yield_function():  \n",
        "    print(y)"
      ],
      "metadata": {
        "colab": {
          "base_uri": "https://localhost:8080/"
        },
        "id": "_Yc_pBtXZUXA",
        "outputId": "a8ec3034-17fb-434b-cd2b-a0874ab21ae9"
      },
      "execution_count": 47,
      "outputs": [
        {
          "output_type": "stream",
          "name": "stdout",
          "text": [
            "29\n",
            "39\n",
            "49\n"
          ]
        }
      ]
    }
  ]
}